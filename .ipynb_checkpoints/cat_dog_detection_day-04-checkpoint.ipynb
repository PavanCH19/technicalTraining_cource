{
 "cells": [
  {
   "cell_type": "code",
   "execution_count": 1,
   "id": "44af3def",
   "metadata": {},
   "outputs": [
    {
     "name": "stderr",
     "output_type": "stream",
     "text": [
      "C:\\Users\\HP\\anaconda3\\lib\\site-packages\\scipy\\__init__.py:138: UserWarning: A NumPy version >=1.16.5 and <1.23.0 is required for this version of SciPy (detected version 1.24.3)\n",
      "  warnings.warn(f\"A NumPy version >={np_minversion} and <{np_maxversion} is required for this version of \"\n"
     ]
    },
    {
     "name": "stdout",
     "output_type": "stream",
     "text": [
      "2.13.0\n"
     ]
    }
   ],
   "source": [
    "import tensorflow as tf\n",
    "print(tf.__version__)"
   ]
  },
  {
   "cell_type": "code",
   "execution_count": 2,
   "id": "f5966682",
   "metadata": {},
   "outputs": [
    {
     "name": "stdout",
     "output_type": "stream",
     "text": [
      "1.24.3\n"
     ]
    }
   ],
   "source": [
    "import numpy as np\n",
    "print(np.__version__)"
   ]
  },
  {
   "cell_type": "code",
   "execution_count": 3,
   "id": "382df3fc",
   "metadata": {},
   "outputs": [],
   "source": [
    "from tensorflow.keras.models import Sequential\n",
    "from tensorflow.keras.layers import Dense, Conv2D, Flatten, Dropout, MaxPooling2D\n",
    "from tensorflow.keras.preprocessing.image import ImageDataGenerator\n",
    "import tensorflow as tf\n",
    "import os \n",
    "import numpy as np\n",
    "import matplotlib.pyplot as plt"
   ]
  },
  {
   "cell_type": "code",
   "execution_count": 7,
   "id": "a2d5656e",
   "metadata": {},
   "outputs": [],
   "source": [
    "_URL = 'https://storage.googleapis.com/mledu-datasets/cats_and_dogs_filtered.zip'\n",
    "path_to_zip = tf.keras.utils.get_file( \"cats_and_dogs.zip\" , origin = _URL, extract = True)\n",
    "\n",
    "#path = os.path.join(os.path.dirname(r\"\"))\n",
    "path = r\"C:\\Users\\HP\\.keras\\datasets\\cats_and_dogs_filtered\""
   ]
  },
  {
   "cell_type": "code",
   "execution_count": 8,
   "id": "170bf10a",
   "metadata": {},
   "outputs": [],
   "source": [
    "train_dir = os.path.join(path, 'train')\n",
    "validation_dir = os.path.join(path, 'validation')"
   ]
  },
  {
   "cell_type": "code",
   "execution_count": 12,
   "id": "1ac2c852",
   "metadata": {},
   "outputs": [],
   "source": [
    "train_cats_dir = os.path.join(train_dir, \"cats\")\n",
    "train_dogs_dir = os.path.join(train_dir, \"dogs\")\n",
    "validation_cats_dir = os.path.join(validation_dir, \"cats\")\n",
    "validation_dogs_dir = os.path.join(validation_dir, \"dogs\")"
   ]
  },
  {
   "cell_type": "code",
   "execution_count": 19,
   "id": "51d6d12b",
   "metadata": {},
   "outputs": [],
   "source": [
    "num_cats_tr = len(os.listdir(train_cats_dir))\n",
    "num_dogs_tr = len(os.listdir(train_dogs_dir))\n",
    "\n",
    "num_cats_val = len(os.listdir(validation_cats_dir))\n",
    "num_dogs_val = len(os.listdir(validation_dogs_dir))\n",
    "\n",
    "total_train = num_cats_tr + num_dogs_tr\n",
    "total_val = num_cats_val + num_dogs_val"
   ]
  },
  {
   "cell_type": "code",
   "execution_count": 22,
   "id": "bc8a6520",
   "metadata": {},
   "outputs": [
    {
     "name": "stdout",
     "output_type": "stream",
     "text": [
      "total training cat images :  1000\n",
      "total training dog images : 1000\n",
      "total validation cat images:  500\n",
      "total validation dog images :  500\n",
      "--\n",
      "total training images :  2000\n",
      "total validation images :  1000\n"
     ]
    }
   ],
   "source": [
    "print(\"total training cat images : \", num_cats_tr)\n",
    "print(\"total training dog images :\", num_dogs_tr)\n",
    "\n",
    "print(\"total validation cat images: \", num_cats_val)\n",
    "print(\"total validation dog images : \", num_dogs_val)\n",
    "print(\"--\")\n",
    "print(\"total training images : \", total_train)\n",
    "print(\"total validation images : \", total_val)"
   ]
  },
  {
   "cell_type": "code",
   "execution_count": 23,
   "id": "512c257c",
   "metadata": {},
   "outputs": [],
   "source": [
    "batch_size = 128\n",
    "epochs = 5\n",
    "IMG_HEIGHT = 150\n",
    "IMG_WIDTH = 150"
   ]
  },
  {
   "cell_type": "code",
   "execution_count": 24,
   "id": "2b7b4108",
   "metadata": {},
   "outputs": [],
   "source": [
    "train_image_generator = ImageDataGenerator(rescale = 1./255) # generator for our trin\n",
    "validation_image_generator = ImageDataGenerator(rescale = 1./255) #generator for our"
   ]
  },
  {
   "cell_type": "code",
   "execution_count": null,
   "id": "36e06f1b",
   "metadata": {},
   "outputs": [],
   "source": [
    "train_data_gen = train_image_generator.flow_from_directory(batch_size = batch_size, )"
   ]
  }
 ],
 "metadata": {
  "kernelspec": {
   "display_name": "Python 3",
   "language": "python",
   "name": "python3"
  },
  "language_info": {
   "codemirror_mode": {
    "name": "ipython",
    "version": 3
   },
   "file_extension": ".py",
   "mimetype": "text/x-python",
   "name": "python",
   "nbconvert_exporter": "python",
   "pygments_lexer": "ipython3",
   "version": "3.8.8"
  }
 },
 "nbformat": 4,
 "nbformat_minor": 5
}
