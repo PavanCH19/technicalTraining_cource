{
 "cells": [
  {
   "cell_type": "code",
   "execution_count": null,
   "id": "93b66c1f-a3c4-40bb-b7b9-9bf6e9dfadb1",
   "metadata": {},
   "outputs": [],
   "source": [
    "import cv2\n",
    "import numpy as np\n",
    "import tensorflow as tf\n",
    "from tensorflow.keras.models import Sequential\n",
    "from tensorflow.keras.layers import Conv2D, MaxPooling2D, Flatten, Dense\n",
    "import pyautogui\n",
    "import matplotlib.pyplot as plt"
   ]
  },
  {
   "cell_type": "code",
   "execution_count": null,
   "id": "aa8c2f78-f872-4ab9-8cec-847437ff52fd",
   "metadata": {},
   "outputs": [],
   "source": [
    "import csv\n",
    "import mediapipe as mp\n",
    "import cv2"
   ]
  },
  {
   "cell_type": "code",
   "execution_count": null,
   "id": "205d947b-ea72-41be-a333-1e59fc20e217",
   "metadata": {},
   "outputs": [
    {
     "name": "stdout",
     "output_type": "stream",
     "text": [
      "Collecting gesture data for virtual mouse. Press 'q' to stop.\n",
      "Perform a gesture for the virtual mouse (e.g., 'move', 'left_click'):\n"
     ]
    },
    {
     "name": "stdin",
     "output_type": "stream",
     "text": [
      "Enter gesture label:  no_move\n"
     ]
    },
    {
     "name": "stdout",
     "output_type": "stream",
     "text": [
      "Perform a gesture for the virtual mouse (e.g., 'move', 'left_click'):\n"
     ]
    },
    {
     "name": "stdin",
     "output_type": "stream",
     "text": [
      "Enter gesture label:  no_move\n"
     ]
    },
    {
     "name": "stdout",
     "output_type": "stream",
     "text": [
      "Perform a gesture for the virtual mouse (e.g., 'move', 'left_click'):\n"
     ]
    },
    {
     "name": "stdin",
     "output_type": "stream",
     "text": [
      "Enter gesture label:  no_move\n"
     ]
    },
    {
     "name": "stdout",
     "output_type": "stream",
     "text": [
      "Perform a gesture for the virtual mouse (e.g., 'move', 'left_click'):\n"
     ]
    },
    {
     "name": "stdin",
     "output_type": "stream",
     "text": [
      "Enter gesture label:  no_move\n"
     ]
    },
    {
     "name": "stdout",
     "output_type": "stream",
     "text": [
      "Perform a gesture for the virtual mouse (e.g., 'move', 'left_click'):\n"
     ]
    },
    {
     "name": "stdin",
     "output_type": "stream",
     "text": [
      "Enter gesture label:  no_move\n"
     ]
    },
    {
     "name": "stdout",
     "output_type": "stream",
     "text": [
      "Perform a gesture for the virtual mouse (e.g., 'move', 'left_click'):\n"
     ]
    },
    {
     "name": "stdin",
     "output_type": "stream",
     "text": [
      "Enter gesture label:  no_move\n"
     ]
    },
    {
     "name": "stdout",
     "output_type": "stream",
     "text": [
      "Perform a gesture for the virtual mouse (e.g., 'move', 'left_click'):\n"
     ]
    },
    {
     "name": "stdin",
     "output_type": "stream",
     "text": [
      "Enter gesture label:  no_move\n"
     ]
    },
    {
     "name": "stdout",
     "output_type": "stream",
     "text": [
      "Perform a gesture for the virtual mouse (e.g., 'move', 'left_click'):\n"
     ]
    },
    {
     "name": "stdin",
     "output_type": "stream",
     "text": [
      "Enter gesture label:  no_move\n"
     ]
    },
    {
     "name": "stdout",
     "output_type": "stream",
     "text": [
      "Perform a gesture for the virtual mouse (e.g., 'move', 'left_click'):\n"
     ]
    },
    {
     "name": "stdin",
     "output_type": "stream",
     "text": [
      "Enter gesture label:  no_move\n"
     ]
    },
    {
     "name": "stdout",
     "output_type": "stream",
     "text": [
      "Perform a gesture for the virtual mouse (e.g., 'move', 'left_click'):\n"
     ]
    },
    {
     "name": "stdin",
     "output_type": "stream",
     "text": [
      "Enter gesture label:  no_move\n"
     ]
    },
    {
     "name": "stdout",
     "output_type": "stream",
     "text": [
      "Perform a gesture for the virtual mouse (e.g., 'move', 'left_click'):\n"
     ]
    },
    {
     "name": "stdin",
     "output_type": "stream",
     "text": [
      "Enter gesture label:  no_move\n"
     ]
    },
    {
     "name": "stdout",
     "output_type": "stream",
     "text": [
      "Perform a gesture for the virtual mouse (e.g., 'move', 'left_click'):\n"
     ]
    },
    {
     "name": "stdin",
     "output_type": "stream",
     "text": [
      "Enter gesture label:  no_move\n"
     ]
    },
    {
     "name": "stdout",
     "output_type": "stream",
     "text": [
      "Perform a gesture for the virtual mouse (e.g., 'move', 'left_click'):\n"
     ]
    },
    {
     "name": "stdin",
     "output_type": "stream",
     "text": [
      "Enter gesture label:  no_move\n"
     ]
    },
    {
     "name": "stdout",
     "output_type": "stream",
     "text": [
      "Perform a gesture for the virtual mouse (e.g., 'move', 'left_click'):\n"
     ]
    },
    {
     "name": "stdin",
     "output_type": "stream",
     "text": [
      "Enter gesture label:  no_move\n"
     ]
    },
    {
     "name": "stdout",
     "output_type": "stream",
     "text": [
      "Perform a gesture for the virtual mouse (e.g., 'move', 'left_click'):\n"
     ]
    },
    {
     "name": "stdin",
     "output_type": "stream",
     "text": [
      "Enter gesture label:  no_move\n"
     ]
    },
    {
     "name": "stdout",
     "output_type": "stream",
     "text": [
      "Perform a gesture for the virtual mouse (e.g., 'move', 'left_click'):\n"
     ]
    },
    {
     "name": "stdin",
     "output_type": "stream",
     "text": [
      "Enter gesture label:  no_move\n"
     ]
    },
    {
     "name": "stdout",
     "output_type": "stream",
     "text": [
      "Perform a gesture for the virtual mouse (e.g., 'move', 'left_click'):\n"
     ]
    },
    {
     "name": "stdin",
     "output_type": "stream",
     "text": [
      "Enter gesture label:  no_move\n"
     ]
    },
    {
     "name": "stdout",
     "output_type": "stream",
     "text": [
      "Perform a gesture for the virtual mouse (e.g., 'move', 'left_click'):\n"
     ]
    },
    {
     "name": "stdin",
     "output_type": "stream",
     "text": [
      "Enter gesture label:  no_move\n"
     ]
    },
    {
     "name": "stdout",
     "output_type": "stream",
     "text": [
      "Perform a gesture for the virtual mouse (e.g., 'move', 'left_click'):\n"
     ]
    },
    {
     "name": "stdin",
     "output_type": "stream",
     "text": [
      "Enter gesture label:  no_move\n"
     ]
    },
    {
     "name": "stdout",
     "output_type": "stream",
     "text": [
      "Perform a gesture for the virtual mouse (e.g., 'move', 'left_click'):\n"
     ]
    },
    {
     "name": "stdin",
     "output_type": "stream",
     "text": [
      "Enter gesture label:  no_move\n"
     ]
    },
    {
     "name": "stdout",
     "output_type": "stream",
     "text": [
      "Perform a gesture for the virtual mouse (e.g., 'move', 'left_click'):\n"
     ]
    },
    {
     "name": "stdin",
     "output_type": "stream",
     "text": [
      "Enter gesture label:  no_move\n"
     ]
    },
    {
     "name": "stdout",
     "output_type": "stream",
     "text": [
      "Perform a gesture for the virtual mouse (e.g., 'move', 'left_click'):\n"
     ]
    },
    {
     "name": "stdin",
     "output_type": "stream",
     "text": [
      "Enter gesture label:  no_move\n"
     ]
    },
    {
     "name": "stdout",
     "output_type": "stream",
     "text": [
      "Perform a gesture for the virtual mouse (e.g., 'move', 'left_click'):\n"
     ]
    },
    {
     "name": "stdin",
     "output_type": "stream",
     "text": [
      "Enter gesture label:  \n"
     ]
    },
    {
     "name": "stdout",
     "output_type": "stream",
     "text": [
      "Perform a gesture for the virtual mouse (e.g., 'move', 'left_click'):\n"
     ]
    },
    {
     "name": "stdin",
     "output_type": "stream",
     "text": [
      "Enter gesture label:  no_move\n"
     ]
    },
    {
     "name": "stdout",
     "output_type": "stream",
     "text": [
      "Perform a gesture for the virtual mouse (e.g., 'move', 'left_click'):\n"
     ]
    },
    {
     "name": "stdin",
     "output_type": "stream",
     "text": [
      "Enter gesture label:  no_move\n"
     ]
    },
    {
     "name": "stdout",
     "output_type": "stream",
     "text": [
      "Perform a gesture for the virtual mouse (e.g., 'move', 'left_click'):\n"
     ]
    },
    {
     "name": "stdin",
     "output_type": "stream",
     "text": [
      "Enter gesture label:  no_move\n"
     ]
    },
    {
     "name": "stdout",
     "output_type": "stream",
     "text": [
      "Perform a gesture for the virtual mouse (e.g., 'move', 'left_click'):\n"
     ]
    },
    {
     "name": "stdin",
     "output_type": "stream",
     "text": [
      "Enter gesture label:  no_move\n"
     ]
    },
    {
     "name": "stdout",
     "output_type": "stream",
     "text": [
      "Perform a gesture for the virtual mouse (e.g., 'move', 'left_click'):\n"
     ]
    },
    {
     "name": "stdin",
     "output_type": "stream",
     "text": [
      "Enter gesture label:  no_move\n"
     ]
    },
    {
     "name": "stdout",
     "output_type": "stream",
     "text": [
      "Perform a gesture for the virtual mouse (e.g., 'move', 'left_click'):\n"
     ]
    },
    {
     "name": "stdin",
     "output_type": "stream",
     "text": [
      "Enter gesture label:  no_move\n"
     ]
    },
    {
     "name": "stdout",
     "output_type": "stream",
     "text": [
      "Perform a gesture for the virtual mouse (e.g., 'move', 'left_click'):\n"
     ]
    },
    {
     "name": "stdin",
     "output_type": "stream",
     "text": [
      "Enter gesture label:  no_move\n"
     ]
    },
    {
     "name": "stdout",
     "output_type": "stream",
     "text": [
      "Perform a gesture for the virtual mouse (e.g., 'move', 'left_click'):\n"
     ]
    },
    {
     "name": "stdin",
     "output_type": "stream",
     "text": [
      "Enter gesture label:  no_move\n"
     ]
    },
    {
     "name": "stdout",
     "output_type": "stream",
     "text": [
      "Perform a gesture for the virtual mouse (e.g., 'move', 'left_click'):\n"
     ]
    },
    {
     "name": "stdin",
     "output_type": "stream",
     "text": [
      "Enter gesture label:  no_move\n"
     ]
    },
    {
     "name": "stdout",
     "output_type": "stream",
     "text": [
      "Perform a gesture for the virtual mouse (e.g., 'move', 'left_click'):\n"
     ]
    },
    {
     "name": "stdin",
     "output_type": "stream",
     "text": [
      "Enter gesture label:  no_move\n"
     ]
    },
    {
     "name": "stdout",
     "output_type": "stream",
     "text": [
      "Perform a gesture for the virtual mouse (e.g., 'move', 'left_click'):\n"
     ]
    },
    {
     "name": "stdin",
     "output_type": "stream",
     "text": [
      "Enter gesture label:  no_move\n"
     ]
    },
    {
     "name": "stdout",
     "output_type": "stream",
     "text": [
      "Perform a gesture for the virtual mouse (e.g., 'move', 'left_click'):\n"
     ]
    },
    {
     "name": "stdin",
     "output_type": "stream",
     "text": [
      "Enter gesture label:  no_move\n"
     ]
    },
    {
     "name": "stdout",
     "output_type": "stream",
     "text": [
      "Perform a gesture for the virtual mouse (e.g., 'move', 'left_click'):\n"
     ]
    },
    {
     "name": "stdin",
     "output_type": "stream",
     "text": [
      "Enter gesture label:  no_move\n"
     ]
    },
    {
     "name": "stdout",
     "output_type": "stream",
     "text": [
      "Perform a gesture for the virtual mouse (e.g., 'move', 'left_click'):\n"
     ]
    },
    {
     "name": "stdin",
     "output_type": "stream",
     "text": [
      "Enter gesture label:  no_move\n"
     ]
    },
    {
     "name": "stdout",
     "output_type": "stream",
     "text": [
      "Perform a gesture for the virtual mouse (e.g., 'move', 'left_click'):\n"
     ]
    },
    {
     "name": "stdin",
     "output_type": "stream",
     "text": [
      "Enter gesture label:  no_move\n"
     ]
    },
    {
     "name": "stdout",
     "output_type": "stream",
     "text": [
      "Perform a gesture for the virtual mouse (e.g., 'move', 'left_click'):\n"
     ]
    },
    {
     "name": "stdin",
     "output_type": "stream",
     "text": [
      "Enter gesture label:  no_move\n"
     ]
    },
    {
     "name": "stdout",
     "output_type": "stream",
     "text": [
      "Perform a gesture for the virtual mouse (e.g., 'move', 'left_click'):\n"
     ]
    },
    {
     "name": "stdin",
     "output_type": "stream",
     "text": [
      "Enter gesture label:  no_move\n"
     ]
    },
    {
     "name": "stdout",
     "output_type": "stream",
     "text": [
      "Perform a gesture for the virtual mouse (e.g., 'move', 'left_click'):\n"
     ]
    },
    {
     "name": "stdin",
     "output_type": "stream",
     "text": [
      "Enter gesture label:  no_move\n"
     ]
    },
    {
     "name": "stdout",
     "output_type": "stream",
     "text": [
      "Perform a gesture for the virtual mouse (e.g., 'move', 'left_click'):\n"
     ]
    },
    {
     "name": "stdin",
     "output_type": "stream",
     "text": [
      "Enter gesture label:  no_move\n"
     ]
    },
    {
     "name": "stdout",
     "output_type": "stream",
     "text": [
      "Perform a gesture for the virtual mouse (e.g., 'move', 'left_click'):\n"
     ]
    },
    {
     "name": "stdin",
     "output_type": "stream",
     "text": [
      "Enter gesture label:  no_move\n"
     ]
    },
    {
     "name": "stdout",
     "output_type": "stream",
     "text": [
      "Perform a gesture for the virtual mouse (e.g., 'move', 'left_click'):\n"
     ]
    },
    {
     "name": "stdin",
     "output_type": "stream",
     "text": [
      "Enter gesture label:  no_move\n"
     ]
    },
    {
     "name": "stdout",
     "output_type": "stream",
     "text": [
      "Perform a gesture for the virtual mouse (e.g., 'move', 'left_click'):\n"
     ]
    },
    {
     "name": "stdin",
     "output_type": "stream",
     "text": [
      "Enter gesture label:  no_move\n"
     ]
    },
    {
     "name": "stdout",
     "output_type": "stream",
     "text": [
      "Perform a gesture for the virtual mouse (e.g., 'move', 'left_click'):\n"
     ]
    }
   ],
   "source": [
    "import cv2\n",
    "import csv\n",
    "import mediapipe as mp\n",
    "\n",
    "# Initialize MediaPipe Hands\n",
    "mp_hands = mp.solutions.hands\n",
    "hands = mp_hands.Hands(min_detection_confidence=0.7, min_tracking_confidence=0.7)\n",
    "\n",
    "# Open Webcam\n",
    "cap = cv2.VideoCapture(0)\n",
    "\n",
    "# Output CSV File\n",
    "output_file = 'virtual_mouse_gestures2.csv'\n",
    "\n",
    "# Open file in write mode and write the header once\n",
    "with open(output_file, 'w', newline='') as file:\n",
    "    writer = csv.writer(file)\n",
    "    writer.writerow(['label'] + [f'x{i}' for i in range(21)] + [f'y{i}' for i in range(21)])\n",
    "\n",
    "    print(\"Collecting gesture data for virtual mouse. Press 'q' to stop.\")\n",
    "\n",
    "    # Start capturing video\n",
    "    while cap.isOpened():\n",
    "        ret, frame = cap.read()\n",
    "        if not ret:\n",
    "            break\n",
    "\n",
    "        # Flip frame for mirror view\n",
    "        frame = cv2.flip(frame, 1)\n",
    "\n",
    "        # Convert frame to RGB\n",
    "        rgb_frame = cv2.cvtColor(frame, cv2.COLOR_BGR2RGB)\n",
    "\n",
    "        # Detect hands\n",
    "        results = hands.process(rgb_frame)\n",
    "\n",
    "        # If hands detected\n",
    "        if results.multi_hand_landmarks:\n",
    "            for hand_landmarks in results.multi_hand_landmarks:\n",
    "                # Extract landmarks\n",
    "                landmarks = [lm.x for lm in hand_landmarks.landmark] + \\\n",
    "                            [lm.y for lm in hand_landmarks.landmark]\n",
    "\n",
    "                # Prompt user to label the gesture\n",
    "                print(\"Perform a gesture for the virtual mouse (e.g., 'move', 'left_click'):\")\n",
    "                label = input(\"Enter gesture label: \").strip()\n",
    "\n",
    "                # Save data to CSV\n",
    "                writer.writerow([label] + landmarks)\n",
    "\n",
    "        # Display the video feed\n",
    "        cv2.imshow(\"Virtual Mouse Gesture Capture\", frame)\n",
    "\n",
    "        # Exit the loop on 'q' key press\n",
    "        if cv2.waitKey(1) & 0xFF == ord('q'):\n",
    "            break\n",
    "\n",
    "# Cleanup\n",
    "cap.release()\n",
    "cv2.destroyAllWindows()\n",
    "hands.close()\n"
   ]
  },
  {
   "cell_type": "code",
   "execution_count": 1,
   "id": "16cb0ae0-d27d-421c-bb78-e488e323cf0d",
   "metadata": {},
   "outputs": [
    {
     "name": "stdout",
     "output_type": "stream",
     "text": [
      "Requirement already satisfied: pandas in c:\\users\\pavan\\anaconda3\\lib\\site-packages (2.2.2)\n",
      "Requirement already satisfied: numpy>=1.26.0 in c:\\users\\pavan\\appdata\\roaming\\python\\python312\\site-packages (from pandas) (1.26.4)\n",
      "Requirement already satisfied: python-dateutil>=2.8.2 in c:\\users\\pavan\\appdata\\roaming\\python\\python312\\site-packages (from pandas) (2.9.0.post0)\n",
      "Requirement already satisfied: pytz>=2020.1 in c:\\users\\pavan\\anaconda3\\lib\\site-packages (from pandas) (2024.1)\n",
      "Requirement already satisfied: tzdata>=2022.7 in c:\\users\\pavan\\anaconda3\\lib\\site-packages (from pandas) (2023.3)\n",
      "Requirement already satisfied: six>=1.5 in c:\\users\\pavan\\appdata\\roaming\\python\\python312\\site-packages (from python-dateutil>=2.8.2->pandas) (1.17.0)\n",
      "Note: you may need to restart the kernel to use updated packages.\n"
     ]
    }
   ],
   "source": [
    "pip install pandas"
   ]
  },
  {
   "cell_type": "code",
   "execution_count": 1,
   "id": "5d11c5dc-c46c-4885-9997-1eb1541d4020",
   "metadata": {},
   "outputs": [],
   "source": [
    "import cv2\n",
    "import csv\n",
    "import mediapipe as mp\n",
    "import pyautogui\n",
    "import pandas as pd\n",
    "import numpy as np\n",
    "\n",
    "# Initialize MediaPipe Hands and drawing utilities\n",
    "mp_hands = mp.solutions.hands\n",
    "hands = mp_hands.Hands(min_detection_confidence=0.7, min_tracking_confidence=0.7)\n",
    "mp_drawing = mp.solutions.drawing_utils\n",
    "\n",
    "# Load gesture data from CSV\n",
    "gesture_data = pd.read_csv('virtual_mouse_gestures.csv')\n",
    "\n",
    "# Set screen resolution for pyautogui (you can change this if you need)\n",
    "screen_width, screen_height = pyautogui.size()\n",
    "\n",
    "# Open Webcam for real-time hand gesture detection\n",
    "cap = cv2.VideoCapture(0)\n",
    "\n",
    "# Function to get normalized coordinates (scaled to screen size)\n",
    "def get_screen_coordinates(x, y):\n",
    "    x_screen = int(x * screen_width)\n",
    "    y_screen = int(y * screen_height)\n",
    "    return x_screen, y_screen\n",
    "\n",
    "# Start capturing video and detect gestures\n",
    "while cap.isOpened():\n",
    "    ret, frame = cap.read()\n",
    "    if not ret:\n",
    "        break\n",
    "\n",
    "    # Flip frame for mirror view\n",
    "    frame = cv2.flip(frame, 1)\n",
    "\n",
    "    # Convert frame to RGB for MediaPipe processing\n",
    "    rgb_frame = cv2.cvtColor(frame, cv2.COLOR_BGR2RGB)\n",
    "\n",
    "    # Detect hands\n",
    "    results = hands.process(rgb_frame)\n",
    "\n",
    "    # If hands are detected, draw landmarks and perform mouse actions\n",
    "    if results.multi_hand_landmarks:\n",
    "        for hand_landmarks in results.multi_hand_landmarks:\n",
    "            # Draw landmarks and connections on the frame\n",
    "            mp_drawing.draw_landmarks(frame, hand_landmarks, mp_hands.HAND_CONNECTIONS)\n",
    "\n",
    "            # Extract landmarks (21 points for hand)\n",
    "            landmarks = [(lm.x, lm.y) for lm in hand_landmarks.landmark]\n",
    "\n",
    "            # Get the coordinates of the tip of the index finger (landmark 8)\n",
    "            x, y = landmarks[8]\n",
    "\n",
    "            # Map the normalized coordinates (0 to 1) to screen coordinates\n",
    "            x_screen, y_screen = get_screen_coordinates(x, y)\n",
    "\n",
    "            # Move the mouse to the detected hand position\n",
    "            pyautogui.moveTo(x_screen, y_screen)\n",
    "\n",
    "            # You can also map other gestures (like 'left_click', 'right_click') to actions\n",
    "            # Example: If a gesture is detected as 'right_click', perform a right click\n",
    "            gesture_label = gesture_data.iloc[0]['label']  # You can map this to actual gesture detection\n",
    "\n",
    "            if gesture_label == 'right_click':\n",
    "                pyautogui.rightClick()\n",
    "            elif gesture_label == 'left_click':\n",
    "                pyautogui.click()\n",
    "            elif gesture_label == 'move':\n",
    "                pass  # Just move the cursor\n",
    "\n",
    "    # Display the video feed with landmarks\n",
    "    cv2.imshow(\"Virtual Mouse Gesture Capture\", frame)\n",
    "\n",
    "    # Exit the loop on 'q' key press\n",
    "    if cv2.waitKey(1) & 0xFF == ord('q'):\n",
    "        break\n",
    "\n",
    "# Cleanup\n",
    "cap.release()\n",
    "cv2.destroyAllWindows()\n",
    "hands.close()\n"
   ]
  },
  {
   "cell_type": "code",
   "execution_count": 1,
   "id": "c0d02620-442a-4137-9e5b-4fde6f5a52d6",
   "metadata": {},
   "outputs": [],
   "source": [
    "import cv2\n",
    "import csv\n",
    "import mediapipe as mp\n",
    "import pyautogui\n",
    "import pandas as pd\n",
    "import numpy as np\n",
    "\n",
    "# Initialize MediaPipe Hands and drawing utilities\n",
    "mp_hands = mp.solutions.hands\n",
    "hands = mp_hands.Hands(min_detection_confidence=0.7, min_tracking_confidence=0.7)\n",
    "mp_drawing = mp.solutions.drawing_utils\n",
    "\n",
    "# Load gesture data from CSV\n",
    "gesture_data = pd.read_csv('virtual_mouse_gestures.csv')\n",
    "\n",
    "# Set screen resolution for pyautogui (you can change this if you need)\n",
    "screen_width, screen_height = pyautogui.size()\n",
    "\n",
    "# Open Webcam for real-time hand gesture detection\n",
    "cap = cv2.VideoCapture(0)\n",
    "\n",
    "# Function to get normalized coordinates (scaled to screen size)\n",
    "def get_screen_coordinates(x, y):\n",
    "    x_screen = int(x * screen_width)\n",
    "    y_screen = int(y * screen_height)\n",
    "    return x_screen, y_screen\n",
    "\n",
    "# Start capturing video and detect gestures\n",
    "while cap.isOpened():\n",
    "    ret, frame = cap.read()\n",
    "    if not ret:\n",
    "        break\n",
    "\n",
    "    # Flip frame for mirror view\n",
    "    frame = cv2.flip(frame, 1)\n",
    "\n",
    "    # Convert frame to RGB for MediaPipe processing\n",
    "    rgb_frame = cv2.cvtColor(frame, cv2.COLOR_BGR2RGB)\n",
    "\n",
    "    # Detect hands\n",
    "    results = hands.process(rgb_frame)\n",
    "\n",
    "    # If hands are detected, draw landmarks and perform mouse actions\n",
    "    if results.multi_hand_landmarks:\n",
    "        for hand_landmarks in results.multi_hand_landmarks:\n",
    "            # Draw landmarks and connections on the frame\n",
    "            mp_drawing.draw_landmarks(frame, hand_landmarks, mp_hands.HAND_CONNECTIONS)\n",
    "\n",
    "            # Extract landmarks (21 points for hand)\n",
    "            landmarks = [(lm.x, lm.y) for lm in hand_landmarks.landmark]\n",
    "\n",
    "            # Get the coordinates of the tip of the index finger (landmark 8)\n",
    "            x, y = landmarks[8]\n",
    "\n",
    "            # Map the normalized coordinates (0 to 1) to screen coordinates\n",
    "            x_screen, y_screen = get_screen_coordinates(x, y)\n",
    "\n",
    "            # Move the mouse to the detected hand position\n",
    "            pyautogui.moveTo(x_screen, y_screen)\n",
    "\n",
    "            # No clicking will be performed, just move the cursor\n",
    "            # No need to check for gesture label as we are only moving the cursor\n",
    "\n",
    "    # Display the video feed with landmarks\n",
    "    cv2.imshow(\"Virtual Mouse Gesture Capture\", frame)\n",
    "\n",
    "    # Exit the loop on 'q' key press\n",
    "    if cv2.waitKey(1) & 0xFF == ord('q'):\n",
    "        break\n",
    "\n",
    "# Cleanup\n",
    "cap.release()\n",
    "cv2.destroyAllWindows()\n",
    "hands.close()\n"
   ]
  },
  {
   "cell_type": "code",
   "execution_count": 2,
   "id": "84f87808-06c4-432b-909b-1e9b4d624c96",
   "metadata": {},
   "outputs": [],
   "source": [
    "import cv2\n",
    "import pandas as pd\n",
    "import numpy as np\n",
    "import pyautogui\n",
    "import mediapipe as mp\n",
    "\n",
    "# Initialize MediaPipe Hands and drawing utilities\n",
    "mp_hands = mp.solutions.hands\n",
    "hands = mp_hands.Hands(min_detection_confidence=0.7, min_tracking_confidence=0.7)\n",
    "mp_drawing = mp.solutions.drawing_utils\n",
    "\n",
    "# Load gesture data from CSV\n",
    "gesture_data = pd.read_csv('virtual_mouse_gestures.csv')\n",
    "\n",
    "# Set screen resolution for pyautogui\n",
    "screen_width, screen_height = pyautogui.size()\n",
    "\n",
    "# Open Webcam for real-time hand gesture detection\n",
    "cap = cv2.VideoCapture(0)\n",
    "\n",
    "# Function to get normalized coordinates (scaled to screen size)\n",
    "def get_screen_coordinates(x, y):\n",
    "    x_screen = int(x * screen_width)\n",
    "    y_screen = int(y * screen_height)\n",
    "    return x_screen, y_screen\n",
    "\n",
    "# Function to compare two sets of landmarks (hand positions)\n",
    "def compare_landmarks(landmarks1, landmarks2):\n",
    "    # Calculate the Euclidean distance between corresponding points\n",
    "    distances = []\n",
    "    for i in range(21):  # 21 landmarks\n",
    "        x1, y1 = landmarks1[i]\n",
    "        x2, y2 = landmarks2[i]\n",
    "        distance = np.sqrt((x2 - x1)**2 + (y2 - y1)**2)\n",
    "        distances.append(distance)\n",
    "    \n",
    "    # Average distance, if it's small enough, it's considered a match\n",
    "    avg_distance = np.mean(distances)\n",
    "    return avg_distance\n",
    "\n",
    "# Start capturing video and detect gestures\n",
    "while cap.isOpened():\n",
    "    ret, frame = cap.read()\n",
    "    if not ret:\n",
    "        break\n",
    "\n",
    "    # Flip frame for mirror view\n",
    "    frame = cv2.flip(frame, 1)\n",
    "\n",
    "    # Convert frame to RGB for MediaPipe processing\n",
    "    rgb_frame = cv2.cvtColor(frame, cv2.COLOR_BGR2RGB)\n",
    "\n",
    "    # Detect hands\n",
    "    results = hands.process(rgb_frame)\n",
    "\n",
    "    # If hands are detected, draw landmarks and perform mouse actions\n",
    "    if results.multi_hand_landmarks:\n",
    "        for hand_landmarks in results.multi_hand_landmarks:\n",
    "            # Draw landmarks and connections on the frame\n",
    "            mp_drawing.draw_landmarks(frame, hand_landmarks, mp_hands.HAND_CONNECTIONS)\n",
    "\n",
    "            # Extract landmarks (21 points for hand)\n",
    "            landmarks = [(lm.x, lm.y) for lm in hand_landmarks.landmark]\n",
    "\n",
    "            # Get the coordinates of the tip of the index finger (landmark 8)\n",
    "            x, y = landmarks[8]\n",
    "\n",
    "            # Map the normalized coordinates (0 to 1) to screen coordinates\n",
    "            x_screen, y_screen = get_screen_coordinates(x, y)\n",
    "\n",
    "            # Move the mouse to the detected hand position\n",
    "            pyautogui.moveTo(x_screen, y_screen)\n",
    "\n",
    "            # Compare the landmarks with the dataset to detect gestures\n",
    "            for index, row in gesture_data.iterrows():\n",
    "                # Get the gesture from the dataset\n",
    "                gesture_label = row['label']\n",
    "                \n",
    "                # Extract the coordinates from the dataset (columns x0, x1, ..., y20)\n",
    "                dataset_landmarks = [(row[f'x{i}'], row[f'y{i}']) for i in range(21)]\n",
    "                \n",
    "                # Compare the detected landmarks with the dataset landmarks\n",
    "                distance = compare_landmarks(landmarks, dataset_landmarks)\n",
    "\n",
    "                # Set a threshold for similarity (you can adjust this)\n",
    "                threshold = 0.1  # Lower value means more strict matching\n",
    "                \n",
    "                if distance < threshold:\n",
    "                    if gesture_label == 'right_click':\n",
    "                        pyautogui.rightClick()\n",
    "                    elif gesture_label == 'left_click':\n",
    "                        pyautogui.click()\n",
    "                    elif gesture_label == 'move':\n",
    "                        pass  # Only move the cursor, no click\n",
    "\n",
    "    # Display the video feed with landmarks\n",
    "    cv2.imshow(\"Virtual Mouse Gesture Capture\", frame)\n",
    "\n",
    "    # Exit the loop on 'q' key press\n",
    "    if cv2.waitKey(1) & 0xFF == ord('q'):\n",
    "        break\n",
    "\n",
    "# Cleanup\n",
    "cap.release()\n",
    "cv2.destroyAllWindows()\n",
    "hands.close()\n"
   ]
  },
  {
   "cell_type": "code",
   "execution_count": null,
   "id": "e6786738-6247-4efc-82c0-594a8bac3397",
   "metadata": {},
   "outputs": [],
   "source": []
  }
 ],
 "metadata": {
  "kernelspec": {
   "display_name": "Python 3 (ipykernel)",
   "language": "python",
   "name": "python3"
  },
  "language_info": {
   "codemirror_mode": {
    "name": "ipython",
    "version": 3
   },
   "file_extension": ".py",
   "mimetype": "text/x-python",
   "name": "python",
   "nbconvert_exporter": "python",
   "pygments_lexer": "ipython3",
   "version": "3.12.7"
  }
 },
 "nbformat": 4,
 "nbformat_minor": 5
}
